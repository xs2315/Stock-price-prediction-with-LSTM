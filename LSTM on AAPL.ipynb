{
  "nbformat": 4,
  "nbformat_minor": 0,
  "metadata": {
    "colab": {
      "name": "Untitled1.ipynb",
      "version": "0.3.2",
      "provenance": [],
      "collapsed_sections": []
    },
    "kernelspec": {
      "name": "python3",
      "display_name": "Python 3"
    }
  },
  "cells": [
    {
      "metadata": {
        "id": "f86l04tgjrUk",
        "colab_type": "code",
        "colab": {}
      },
      "cell_type": "code",
      "source": [
        "# import package\n",
        "import numpy as np\n",
        "import matplotlib.pyplot as plt\n",
        "import pandas as pd\n",
        "from sklearn.preprocessing import MinMaxScaler\n",
        "from google.colab import files\n",
        "from sklearn.metrics import mean_squared_error"
      ],
      "execution_count": 0,
      "outputs": []
    },
    {
      "metadata": {
        "id": "Xnourd6SjvXx",
        "colab_type": "code",
        "outputId": "a3c42ae5-2717-461c-b0ab-0301e48abf49",
        "colab": {
          "resources": {
            "http://localhost:8080/nbextensions/google.colab/files.js": {
              "data": "Ly8gQ29weXJpZ2h0IDIwMTcgR29vZ2xlIExMQwovLwovLyBMaWNlbnNlZCB1bmRlciB0aGUgQXBhY2hlIExpY2Vuc2UsIFZlcnNpb24gMi4wICh0aGUgIkxpY2Vuc2UiKTsKLy8geW91IG1heSBub3QgdXNlIHRoaXMgZmlsZSBleGNlcHQgaW4gY29tcGxpYW5jZSB3aXRoIHRoZSBMaWNlbnNlLgovLyBZb3UgbWF5IG9idGFpbiBhIGNvcHkgb2YgdGhlIExpY2Vuc2UgYXQKLy8KLy8gICAgICBodHRwOi8vd3d3LmFwYWNoZS5vcmcvbGljZW5zZXMvTElDRU5TRS0yLjAKLy8KLy8gVW5sZXNzIHJlcXVpcmVkIGJ5IGFwcGxpY2FibGUgbGF3IG9yIGFncmVlZCB0byBpbiB3cml0aW5nLCBzb2Z0d2FyZQovLyBkaXN0cmlidXRlZCB1bmRlciB0aGUgTGljZW5zZSBpcyBkaXN0cmlidXRlZCBvbiBhbiAiQVMgSVMiIEJBU0lTLAovLyBXSVRIT1VUIFdBUlJBTlRJRVMgT1IgQ09ORElUSU9OUyBPRiBBTlkgS0lORCwgZWl0aGVyIGV4cHJlc3Mgb3IgaW1wbGllZC4KLy8gU2VlIHRoZSBMaWNlbnNlIGZvciB0aGUgc3BlY2lmaWMgbGFuZ3VhZ2UgZ292ZXJuaW5nIHBlcm1pc3Npb25zIGFuZAovLyBsaW1pdGF0aW9ucyB1bmRlciB0aGUgTGljZW5zZS4KCi8qKgogKiBAZmlsZW92ZXJ2aWV3IEhlbHBlcnMgZm9yIGdvb2dsZS5jb2xhYiBQeXRob24gbW9kdWxlLgogKi8KKGZ1bmN0aW9uKHNjb3BlKSB7CmZ1bmN0aW9uIHNwYW4odGV4dCwgc3R5bGVBdHRyaWJ1dGVzID0ge30pIHsKICBjb25zdCBlbGVtZW50ID0gZG9jdW1lbnQuY3JlYXRlRWxlbWVudCgnc3BhbicpOwogIGVsZW1lbnQudGV4dENvbnRlbnQgPSB0ZXh0OwogIGZvciAoY29uc3Qga2V5IG9mIE9iamVjdC5rZXlzKHN0eWxlQXR0cmlidXRlcykpIHsKICAgIGVsZW1lbnQuc3R5bGVba2V5XSA9IHN0eWxlQXR0cmlidXRlc1trZXldOwogIH0KICByZXR1cm4gZWxlbWVudDsKfQoKLy8gTWF4IG51bWJlciBvZiBieXRlcyB3aGljaCB3aWxsIGJlIHVwbG9hZGVkIGF0IGEgdGltZS4KY29uc3QgTUFYX1BBWUxPQURfU0laRSA9IDEwMCAqIDEwMjQ7Ci8vIE1heCBhbW91bnQgb2YgdGltZSB0byBibG9jayB3YWl0aW5nIGZvciB0aGUgdXNlci4KY29uc3QgRklMRV9DSEFOR0VfVElNRU9VVF9NUyA9IDMwICogMTAwMDsKCmZ1bmN0aW9uIF91cGxvYWRGaWxlcyhpbnB1dElkLCBvdXRwdXRJZCkgewogIGNvbnN0IHN0ZXBzID0gdXBsb2FkRmlsZXNTdGVwKGlucHV0SWQsIG91dHB1dElkKTsKICBjb25zdCBvdXRwdXRFbGVtZW50ID0gZG9jdW1lbnQuZ2V0RWxlbWVudEJ5SWQob3V0cHV0SWQpOwogIC8vIENhY2hlIHN0ZXBzIG9uIHRoZSBvdXRwdXRFbGVtZW50IHRvIG1ha2UgaXQgYXZhaWxhYmxlIGZvciB0aGUgbmV4dCBjYWxsCiAgLy8gdG8gdXBsb2FkRmlsZXNDb250aW51ZSBmcm9tIFB5dGhvbi4KICBvdXRwdXRFbGVtZW50LnN0ZXBzID0gc3RlcHM7CgogIHJldHVybiBfdXBsb2FkRmlsZXNDb250aW51ZShvdXRwdXRJZCk7Cn0KCi8vIFRoaXMgaXMgcm91Z2hseSBhbiBhc3luYyBnZW5lcmF0b3IgKG5vdCBzdXBwb3J0ZWQgaW4gdGhlIGJyb3dzZXIgeWV0KSwKLy8gd2hlcmUgdGhlcmUgYXJlIG11bHRpcGxlIGFzeW5jaHJvbm91cyBzdGVwcyBhbmQgdGhlIFB5dGhvbiBzaWRlIGlzIGdvaW5nCi8vIHRvIHBvbGwgZm9yIGNvbXBsZXRpb24gb2YgZWFjaCBzdGVwLgovLyBUaGlzIHVzZXMgYSBQcm9taXNlIHRvIGJsb2NrIHRoZSBweXRob24gc2lkZSBvbiBjb21wbGV0aW9uIG9mIGVhY2ggc3RlcCwKLy8gdGhlbiBwYXNzZXMgdGhlIHJlc3VsdCBvZiB0aGUgcHJldmlvdXMgc3RlcCBhcyB0aGUgaW5wdXQgdG8gdGhlIG5leHQgc3RlcC4KZnVuY3Rpb24gX3VwbG9hZEZpbGVzQ29udGludWUob3V0cHV0SWQpIHsKICBjb25zdCBvdXRwdXRFbGVtZW50ID0gZG9jdW1lbnQuZ2V0RWxlbWVudEJ5SWQob3V0cHV0SWQpOwogIGNvbnN0IHN0ZXBzID0gb3V0cHV0RWxlbWVudC5zdGVwczsKCiAgY29uc3QgbmV4dCA9IHN0ZXBzLm5leHQob3V0cHV0RWxlbWVudC5sYXN0UHJvbWlzZVZhbHVlKTsKICByZXR1cm4gUHJvbWlzZS5yZXNvbHZlKG5leHQudmFsdWUucHJvbWlzZSkudGhlbigodmFsdWUpID0+IHsKICAgIC8vIENhY2hlIHRoZSBsYXN0IHByb21pc2UgdmFsdWUgdG8gbWFrZSBpdCBhdmFpbGFibGUgdG8gdGhlIG5leHQKICAgIC8vIHN0ZXAgb2YgdGhlIGdlbmVyYXRvci4KICAgIG91dHB1dEVsZW1lbnQubGFzdFByb21pc2VWYWx1ZSA9IHZhbHVlOwogICAgcmV0dXJuIG5leHQudmFsdWUucmVzcG9uc2U7CiAgfSk7Cn0KCi8qKgogKiBHZW5lcmF0b3IgZnVuY3Rpb24gd2hpY2ggaXMgY2FsbGVkIGJldHdlZW4gZWFjaCBhc3luYyBzdGVwIG9mIHRoZSB1cGxvYWQKICogcHJvY2Vzcy4KICogQHBhcmFtIHtzdHJpbmd9IGlucHV0SWQgRWxlbWVudCBJRCBvZiB0aGUgaW5wdXQgZmlsZSBwaWNrZXIgZWxlbWVudC4KICogQHBhcmFtIHtzdHJpbmd9IG91dHB1dElkIEVsZW1lbnQgSUQgb2YgdGhlIG91dHB1dCBkaXNwbGF5LgogKiBAcmV0dXJuIHshSXRlcmFibGU8IU9iamVjdD59IEl0ZXJhYmxlIG9mIG5leHQgc3RlcHMuCiAqLwpmdW5jdGlvbiogdXBsb2FkRmlsZXNTdGVwKGlucHV0SWQsIG91dHB1dElkKSB7CiAgY29uc3QgaW5wdXRFbGVtZW50ID0gZG9jdW1lbnQuZ2V0RWxlbWVudEJ5SWQoaW5wdXRJZCk7CiAgaW5wdXRFbGVtZW50LmRpc2FibGVkID0gZmFsc2U7CgogIGNvbnN0IG91dHB1dEVsZW1lbnQgPSBkb2N1bWVudC5nZXRFbGVtZW50QnlJZChvdXRwdXRJZCk7CiAgb3V0cHV0RWxlbWVudC5pbm5lckhUTUwgPSAnJzsKCiAgY29uc3QgcGlja2VkUHJvbWlzZSA9IG5ldyBQcm9taXNlKChyZXNvbHZlKSA9PiB7CiAgICBpbnB1dEVsZW1lbnQuYWRkRXZlbnRMaXN0ZW5lcignY2hhbmdlJywgKGUpID0+IHsKICAgICAgcmVzb2x2ZShlLnRhcmdldC5maWxlcyk7CiAgICB9KTsKICB9KTsKCiAgY29uc3QgY2FuY2VsID0gZG9jdW1lbnQuY3JlYXRlRWxlbWVudCgnYnV0dG9uJyk7CiAgaW5wdXRFbGVtZW50LnBhcmVudEVsZW1lbnQuYXBwZW5kQ2hpbGQoY2FuY2VsKTsKICBjYW5jZWwudGV4dENvbnRlbnQgPSAnQ2FuY2VsIHVwbG9hZCc7CiAgY29uc3QgY2FuY2VsUHJvbWlzZSA9IG5ldyBQcm9taXNlKChyZXNvbHZlKSA9PiB7CiAgICBjYW5jZWwub25jbGljayA9ICgpID0+IHsKICAgICAgcmVzb2x2ZShudWxsKTsKICAgIH07CiAgfSk7CgogIC8vIENhbmNlbCB1cGxvYWQgaWYgdXNlciBoYXNuJ3QgcGlja2VkIGFueXRoaW5nIGluIHRpbWVvdXQuCiAgY29uc3QgdGltZW91dFByb21pc2UgPSBuZXcgUHJvbWlzZSgocmVzb2x2ZSkgPT4gewogICAgc2V0VGltZW91dCgoKSA9PiB7CiAgICAgIHJlc29sdmUobnVsbCk7CiAgICB9LCBGSUxFX0NIQU5HRV9USU1FT1VUX01TKTsKICB9KTsKCiAgLy8gV2FpdCBmb3IgdGhlIHVzZXIgdG8gcGljayB0aGUgZmlsZXMuCiAgY29uc3QgZmlsZXMgPSB5aWVsZCB7CiAgICBwcm9taXNlOiBQcm9taXNlLnJhY2UoW3BpY2tlZFByb21pc2UsIHRpbWVvdXRQcm9taXNlLCBjYW5jZWxQcm9taXNlXSksCiAgICByZXNwb25zZTogewogICAgICBhY3Rpb246ICdzdGFydGluZycsCiAgICB9CiAgfTsKCiAgaWYgKCFmaWxlcykgewogICAgcmV0dXJuIHsKICAgICAgcmVzcG9uc2U6IHsKICAgICAgICBhY3Rpb246ICdjb21wbGV0ZScsCiAgICAgIH0KICAgIH07CiAgfQoKICBjYW5jZWwucmVtb3ZlKCk7CgogIC8vIERpc2FibGUgdGhlIGlucHV0IGVsZW1lbnQgc2luY2UgZnVydGhlciBwaWNrcyBhcmUgbm90IGFsbG93ZWQuCiAgaW5wdXRFbGVtZW50LmRpc2FibGVkID0gdHJ1ZTsKCiAgZm9yIChjb25zdCBmaWxlIG9mIGZpbGVzKSB7CiAgICBjb25zdCBsaSA9IGRvY3VtZW50LmNyZWF0ZUVsZW1lbnQoJ2xpJyk7CiAgICBsaS5hcHBlbmQoc3BhbihmaWxlLm5hbWUsIHtmb250V2VpZ2h0OiAnYm9sZCd9KSk7CiAgICBsaS5hcHBlbmQoc3BhbigKICAgICAgICBgKCR7ZmlsZS50eXBlIHx8ICduL2EnfSkgLSAke2ZpbGUuc2l6ZX0gYnl0ZXMsIGAgKwogICAgICAgIGBsYXN0IG1vZGlmaWVkOiAkewogICAgICAgICAgICBmaWxlLmxhc3RNb2RpZmllZERhdGUgPyBmaWxlLmxhc3RNb2RpZmllZERhdGUudG9Mb2NhbGVEYXRlU3RyaW5nKCkgOgogICAgICAgICAgICAgICAgICAgICAgICAgICAgICAgICAgICAnbi9hJ30gLSBgKSk7CiAgICBjb25zdCBwZXJjZW50ID0gc3BhbignMCUgZG9uZScpOwogICAgbGkuYXBwZW5kQ2hpbGQocGVyY2VudCk7CgogICAgb3V0cHV0RWxlbWVudC5hcHBlbmRDaGlsZChsaSk7CgogICAgY29uc3QgZmlsZURhdGFQcm9taXNlID0gbmV3IFByb21pc2UoKHJlc29sdmUpID0+IHsKICAgICAgY29uc3QgcmVhZGVyID0gbmV3IEZpbGVSZWFkZXIoKTsKICAgICAgcmVhZGVyLm9ubG9hZCA9IChlKSA9PiB7CiAgICAgICAgcmVzb2x2ZShlLnRhcmdldC5yZXN1bHQpOwogICAgICB9OwogICAgICByZWFkZXIucmVhZEFzQXJyYXlCdWZmZXIoZmlsZSk7CiAgICB9KTsKICAgIC8vIFdhaXQgZm9yIHRoZSBkYXRhIHRvIGJlIHJlYWR5LgogICAgbGV0IGZpbGVEYXRhID0geWllbGQgewogICAgICBwcm9taXNlOiBmaWxlRGF0YVByb21pc2UsCiAgICAgIHJlc3BvbnNlOiB7CiAgICAgICAgYWN0aW9uOiAnY29udGludWUnLAogICAgICB9CiAgICB9OwoKICAgIC8vIFVzZSBhIGNodW5rZWQgc2VuZGluZyB0byBhdm9pZCBtZXNzYWdlIHNpemUgbGltaXRzLiBTZWUgYi82MjExNTY2MC4KICAgIGxldCBwb3NpdGlvbiA9IDA7CiAgICB3aGlsZSAocG9zaXRpb24gPCBmaWxlRGF0YS5ieXRlTGVuZ3RoKSB7CiAgICAgIGNvbnN0IGxlbmd0aCA9IE1hdGgubWluKGZpbGVEYXRhLmJ5dGVMZW5ndGggLSBwb3NpdGlvbiwgTUFYX1BBWUxPQURfU0laRSk7CiAgICAgIGNvbnN0IGNodW5rID0gbmV3IFVpbnQ4QXJyYXkoZmlsZURhdGEsIHBvc2l0aW9uLCBsZW5ndGgpOwogICAgICBwb3NpdGlvbiArPSBsZW5ndGg7CgogICAgICBjb25zdCBiYXNlNjQgPSBidG9hKFN0cmluZy5mcm9tQ2hhckNvZGUuYXBwbHkobnVsbCwgY2h1bmspKTsKICAgICAgeWllbGQgewogICAgICAgIHJlc3BvbnNlOiB7CiAgICAgICAgICBhY3Rpb246ICdhcHBlbmQnLAogICAgICAgICAgZmlsZTogZmlsZS5uYW1lLAogICAgICAgICAgZGF0YTogYmFzZTY0LAogICAgICAgIH0sCiAgICAgIH07CiAgICAgIHBlcmNlbnQudGV4dENvbnRlbnQgPQogICAgICAgICAgYCR7TWF0aC5yb3VuZCgocG9zaXRpb24gLyBmaWxlRGF0YS5ieXRlTGVuZ3RoKSAqIDEwMCl9JSBkb25lYDsKICAgIH0KICB9CgogIC8vIEFsbCBkb25lLgogIHlpZWxkIHsKICAgIHJlc3BvbnNlOiB7CiAgICAgIGFjdGlvbjogJ2NvbXBsZXRlJywKICAgIH0KICB9Owp9CgpzY29wZS5nb29nbGUgPSBzY29wZS5nb29nbGUgfHwge307CnNjb3BlLmdvb2dsZS5jb2xhYiA9IHNjb3BlLmdvb2dsZS5jb2xhYiB8fCB7fTsKc2NvcGUuZ29vZ2xlLmNvbGFiLl9maWxlcyA9IHsKICBfdXBsb2FkRmlsZXMsCiAgX3VwbG9hZEZpbGVzQ29udGludWUsCn07Cn0pKHNlbGYpOwo=",
              "ok": true,
              "headers": [
                [
                  "content-type",
                  "application/javascript"
                ]
              ],
              "status": 200,
              "status_text": ""
            }
          },
          "base_uri": "https://localhost:8080/",
          "height": 86
        }
      },
      "cell_type": "code",
      "source": [
        "# Upload the data\n",
        "uploaded = files.upload()\n",
        "\n",
        "for fn in uploaded.keys():\n",
        "  print('User uploaded file \"{name}\" with length {length} bytes'.format(\n",
        "      name=fn, length=len(uploaded[fn])))"
      ],
      "execution_count": 0,
      "outputs": [
        {
          "output_type": "display_data",
          "data": {
            "text/html": [
              "\n",
              "     <input type=\"file\" id=\"files-fa3f4378-71db-40f9-b420-34df02315b2e\" name=\"files[]\" multiple disabled />\n",
              "     <output id=\"result-fa3f4378-71db-40f9-b420-34df02315b2e\">\n",
              "      Upload widget is only available when the cell has been executed in the\n",
              "      current browser session. Please rerun this cell to enable.\n",
              "      </output>\n",
              "      <script src=\"/nbextensions/google.colab/files.js\"></script> "
            ],
            "text/plain": [
              "<IPython.core.display.HTML object>"
            ]
          },
          "metadata": {
            "tags": []
          }
        },
        {
          "output_type": "stream",
          "text": [
            "Saving MyData.csv to MyData.csv\n",
            "User uploaded file \"MyData.csv\" with length 5291697 bytes\n"
          ],
          "name": "stdout"
        }
      ]
    },
    {
      "metadata": {
        "id": "SV7GHNg0jzjQ",
        "colab_type": "code",
        "outputId": "62b2f7cb-2cdc-48a9-eef0-fd10ad88ca18",
        "colab": {
          "base_uri": "https://localhost:8080/",
          "height": 153
        }
      },
      "cell_type": "code",
      "source": [
        "dataset = pd.read_csv('MyData.csv')\n",
        "# Set test data and training data\n",
        "dataset.index=dataset.Date\n",
        "test = dataset.loc['2017-01-03':'2017-12-29']\n",
        "train = dataset.loc['2009-01-05':'2016-12-30']\n",
        "training_set=train.iloc[:,2].values.reshape(-1,1)\n",
        "print(training_set)\n",
        "type(training_set)"
      ],
      "execution_count": 0,
      "outputs": [
        {
          "output_type": "stream",
          "text": [
            "[[ 13.511429]\n",
            " [ 13.288571]\n",
            " [ 13.001429]\n",
            " ...\n",
            " [116.76    ]\n",
            " [116.73    ]\n",
            " [115.82    ]]\n"
          ],
          "name": "stdout"
        },
        {
          "output_type": "execute_result",
          "data": {
            "text/plain": [
              "numpy.ndarray"
            ]
          },
          "metadata": {
            "tags": []
          },
          "execution_count": 3
        }
      ]
    },
    {
      "metadata": {
        "id": "Inonc3-ej01F",
        "colab_type": "code",
        "outputId": "0afd9cc7-f927-4141-c141-6acbae36eb8b",
        "colab": {
          "base_uri": "https://localhost:8080/",
          "height": 34
        }
      },
      "cell_type": "code",
      "source": [
        "#Feature Scaling\n",
        "sc = MinMaxScaler(feature_range= (0,1))\n",
        "#It is going to fit the training_set and transforms the data.\n",
        "scaled_training_set = sc.fit_transform(training_set)\n",
        "\n",
        "#Creating the data structure with 60 timesteps and 1 output \n",
        "#In each time 't' , RNN will look 60 timesteps (days) before steps to predict the next output\n",
        "X_train = []\n",
        "y_train = []\n",
        "for i in range(60, 2013):\n",
        "    X_train.append(scaled_training_set[i-60:i, 0])\n",
        "    y_train.append(scaled_training_set[i, 0])\n",
        "\n",
        "X_train, y_train = np.array(X_train), np.array(y_train)\n",
        " \n",
        "#Reshaping for giving X_train to the RNN as an input.\n",
        "X_train = np.reshape(X_train, (X_train.shape[0], X_train.shape[1], 1))\n",
        "print(X_train.shape)"
      ],
      "execution_count": 0,
      "outputs": [
        {
          "output_type": "stream",
          "text": [
            "(1953, 60, 1)\n"
          ],
          "name": "stdout"
        }
      ]
    },
    {
      "metadata": {
        "id": "kG0YaiBIj-Yr",
        "colab_type": "code",
        "outputId": "cd71f3eb-eace-4b71-ce6d-d25872807342",
        "colab": {
          "base_uri": "https://localhost:8080/",
          "height": 3434
        }
      },
      "cell_type": "code",
      "source": [
        "#Part - 2 Building the RNN\n",
        "\n",
        "#Importing the KEras libraries and packages\n",
        "from keras.models import Sequential\n",
        "from keras.layers import Dense\n",
        "from keras.layers import LSTM\n",
        "from keras.layers import Dropout\n",
        "        \n",
        "#Initialising the RNN\n",
        "#Represents sequence of layers : regressor(Because we will predict continious output, so we are doing regression not a classification.)\n",
        "regressor = Sequential()\n",
        "\n",
        "#Adding the first LSTM layer and some Dropout regularisation.\n",
        "#return_sequences : We set that True , because we want to implement stack of LSTM layers. \n",
        "#If we want to add more LSTM layers after the current layer , we want to set this value True, if not we set that value to be False.\n",
        "regressor.add(LSTM(units= 80, return_sequences= True, input_shape = ( X_train.shape[1], 1)))\n",
        "#We are adding a Dropout Regularisation\n",
        "regressor.add(Dropout(0.2))\n",
        "\n",
        "#Adding a second LSTM layer and some Dropout Regularisation\n",
        "#We are not spesifying the input shape, because it will understand by the previous one.\n",
        "regressor.add(LSTM(units= 80, return_sequences= True))\n",
        "#We are adding a Dropout Regularisation\n",
        "regressor.add(Dropout(0.2))\n",
        "\n",
        "\n",
        "#Adding the third LSTM layer and some Dropout regularisation\n",
        "regressor.add(LSTM(units= 80, return_sequences= True))\n",
        "#We are adding a Dropout Regularisation\n",
        "regressor.add(Dropout(0.2))\n",
        "\n",
        "#Adding a fourth LSTM layer and some Dropout regularisation.\n",
        "#We are not going to return any sequencies.\n",
        "regressor.add(LSTM(units= 80, return_sequences= False))\n",
        "#We are adding a Dropout Regularisation.\n",
        "regressor.add(Dropout(0.2))\n",
        "\n",
        "#Adding the output layer.\n",
        "regressor.add(Dense(units = 1))\n",
        "\n",
        "#Compiling the RNN\n",
        "regressor.compile(optimizer = 'adam', loss = 'mean_squared_error')\n",
        "\n",
        "\n",
        "#Fitting the RNN to the Training set\n",
        "regressor.fit(X_train, y_train, batch_size= 32, epochs= 100)\n"
      ],
      "execution_count": 0,
      "outputs": [
        {
          "output_type": "stream",
          "text": [
            "Epoch 1/100\n",
            "1953/1953 [==============================] - 14s 7ms/step - loss: 0.0268\n",
            "Epoch 2/100\n",
            "1953/1953 [==============================] - 12s 6ms/step - loss: 0.0038\n",
            "Epoch 3/100\n",
            "1953/1953 [==============================] - 12s 6ms/step - loss: 0.0034\n",
            "Epoch 4/100\n",
            "1953/1953 [==============================] - 12s 6ms/step - loss: 0.0032\n",
            "Epoch 5/100\n",
            "1953/1953 [==============================] - 12s 6ms/step - loss: 0.0034\n",
            "Epoch 6/100\n",
            "1953/1953 [==============================] - 12s 6ms/step - loss: 0.0033\n",
            "Epoch 7/100\n",
            "1953/1953 [==============================] - 12s 6ms/step - loss: 0.0026\n",
            "Epoch 8/100\n",
            "1953/1953 [==============================] - 12s 6ms/step - loss: 0.0025\n",
            "Epoch 9/100\n",
            "1953/1953 [==============================] - 12s 6ms/step - loss: 0.0025\n",
            "Epoch 10/100\n",
            "1953/1953 [==============================] - 12s 6ms/step - loss: 0.0024\n",
            "Epoch 11/100\n",
            "1953/1953 [==============================] - 12s 6ms/step - loss: 0.0034\n",
            "Epoch 12/100\n",
            "1953/1953 [==============================] - 13s 6ms/step - loss: 0.0024\n",
            "Epoch 13/100\n",
            "1953/1953 [==============================] - 14s 7ms/step - loss: 0.0022\n",
            "Epoch 14/100\n",
            "1953/1953 [==============================] - 13s 6ms/step - loss: 0.0021\n",
            "Epoch 15/100\n",
            "1953/1953 [==============================] - 13s 6ms/step - loss: 0.0023\n",
            "Epoch 16/100\n",
            "1953/1953 [==============================] - 13s 7ms/step - loss: 0.0024\n",
            "Epoch 17/100\n",
            "1953/1953 [==============================] - 12s 6ms/step - loss: 0.0020\n",
            "Epoch 18/100\n",
            "1953/1953 [==============================] - 12s 6ms/step - loss: 0.0018\n",
            "Epoch 19/100\n",
            "1953/1953 [==============================] - 13s 6ms/step - loss: 0.0021\n",
            "Epoch 20/100\n",
            "1953/1953 [==============================] - 12s 6ms/step - loss: 0.0020\n",
            "Epoch 21/100\n",
            "1953/1953 [==============================] - 13s 6ms/step - loss: 0.0020\n",
            "Epoch 22/100\n",
            "1953/1953 [==============================] - 13s 6ms/step - loss: 0.0021\n",
            "Epoch 23/100\n",
            "1953/1953 [==============================] - 12s 6ms/step - loss: 0.0017\n",
            "Epoch 24/100\n",
            "1953/1953 [==============================] - 12s 6ms/step - loss: 0.0018\n",
            "Epoch 25/100\n",
            "1953/1953 [==============================] - 12s 6ms/step - loss: 0.0018\n",
            "Epoch 26/100\n",
            "1953/1953 [==============================] - 12s 6ms/step - loss: 0.0018\n",
            "Epoch 27/100\n",
            "1953/1953 [==============================] - 12s 6ms/step - loss: 0.0018\n",
            "Epoch 28/100\n",
            "1953/1953 [==============================] - 12s 6ms/step - loss: 0.0019\n",
            "Epoch 29/100\n",
            "1953/1953 [==============================] - 12s 6ms/step - loss: 0.0018\n",
            "Epoch 30/100\n",
            "1953/1953 [==============================] - 12s 6ms/step - loss: 0.0016\n",
            "Epoch 31/100\n",
            "1953/1953 [==============================] - 13s 7ms/step - loss: 0.0015\n",
            "Epoch 32/100\n",
            "1953/1953 [==============================] - 12s 6ms/step - loss: 0.0017\n",
            "Epoch 33/100\n",
            "1953/1953 [==============================] - 12s 6ms/step - loss: 0.0014\n",
            "Epoch 34/100\n",
            "1953/1953 [==============================] - 12s 6ms/step - loss: 0.0016\n",
            "Epoch 35/100\n",
            "1953/1953 [==============================] - 12s 6ms/step - loss: 0.0018\n",
            "Epoch 36/100\n",
            "1953/1953 [==============================] - 12s 6ms/step - loss: 0.0018\n",
            "Epoch 37/100\n",
            "1953/1953 [==============================] - 12s 6ms/step - loss: 0.0014\n",
            "Epoch 38/100\n",
            "1953/1953 [==============================] - 14s 7ms/step - loss: 0.0014\n",
            "Epoch 39/100\n",
            "1953/1953 [==============================] - 13s 7ms/step - loss: 0.0014\n",
            "Epoch 40/100\n",
            "1953/1953 [==============================] - 12s 6ms/step - loss: 0.0014\n",
            "Epoch 41/100\n",
            "1953/1953 [==============================] - 13s 6ms/step - loss: 0.0015\n",
            "Epoch 42/100\n",
            "1953/1953 [==============================] - 12s 6ms/step - loss: 0.0028\n",
            "Epoch 43/100\n",
            "1953/1953 [==============================] - 12s 6ms/step - loss: 0.0014\n",
            "Epoch 44/100\n",
            "1953/1953 [==============================] - 12s 6ms/step - loss: 0.0012\n",
            "Epoch 45/100\n",
            "1953/1953 [==============================] - 11s 6ms/step - loss: 0.0013\n",
            "Epoch 46/100\n",
            "1953/1953 [==============================] - 12s 6ms/step - loss: 0.0011\n",
            "Epoch 47/100\n",
            "1953/1953 [==============================] - 12s 6ms/step - loss: 0.0011\n",
            "Epoch 48/100\n",
            "1953/1953 [==============================] - 11s 6ms/step - loss: 0.0012\n",
            "Epoch 49/100\n",
            "1953/1953 [==============================] - 11s 6ms/step - loss: 0.0011\n",
            "Epoch 50/100\n",
            "1953/1953 [==============================] - 11s 6ms/step - loss: 0.0012\n",
            "Epoch 51/100\n",
            "1953/1953 [==============================] - 11s 6ms/step - loss: 0.0012\n",
            "Epoch 52/100\n",
            "1953/1953 [==============================] - 11s 6ms/step - loss: 0.0012\n",
            "Epoch 53/100\n",
            "1953/1953 [==============================] - 12s 6ms/step - loss: 0.0011\n",
            "Epoch 54/100\n",
            "1953/1953 [==============================] - 12s 6ms/step - loss: 0.0013\n",
            "Epoch 55/100\n",
            "1953/1953 [==============================] - 12s 6ms/step - loss: 0.0021\n",
            "Epoch 56/100\n",
            "1953/1953 [==============================] - 12s 6ms/step - loss: 0.0011\n",
            "Epoch 57/100\n",
            "1953/1953 [==============================] - 12s 6ms/step - loss: 9.8851e-04\n",
            "Epoch 58/100\n",
            "1953/1953 [==============================] - 13s 6ms/step - loss: 0.0011\n",
            "Epoch 59/100\n",
            "1953/1953 [==============================] - 14s 7ms/step - loss: 0.0011\n",
            "Epoch 60/100\n",
            "1953/1953 [==============================] - 12s 6ms/step - loss: 0.0018\n",
            "Epoch 61/100\n",
            "1953/1953 [==============================] - 12s 6ms/step - loss: 0.0011\n",
            "Epoch 62/100\n",
            "1953/1953 [==============================] - 12s 6ms/step - loss: 0.0011\n",
            "Epoch 63/100\n",
            "1953/1953 [==============================] - 12s 6ms/step - loss: 0.0011\n",
            "Epoch 64/100\n",
            "1953/1953 [==============================] - 13s 7ms/step - loss: 9.9896e-04\n",
            "Epoch 65/100\n",
            "1953/1953 [==============================] - 12s 6ms/step - loss: 0.0010\n",
            "Epoch 66/100\n",
            "1953/1953 [==============================] - 12s 6ms/step - loss: 0.0010\n",
            "Epoch 67/100\n",
            "1953/1953 [==============================] - 13s 6ms/step - loss: 9.8242e-04\n",
            "Epoch 68/100\n",
            "1953/1953 [==============================] - 12s 6ms/step - loss: 0.0010\n",
            "Epoch 69/100\n",
            "1953/1953 [==============================] - 12s 6ms/step - loss: 9.9174e-04\n",
            "Epoch 70/100\n",
            "1953/1953 [==============================] - 12s 6ms/step - loss: 9.7614e-04\n",
            "Epoch 71/100\n",
            "1953/1953 [==============================] - 12s 6ms/step - loss: 8.9680e-04\n",
            "Epoch 72/100\n",
            "1953/1953 [==============================] - 12s 6ms/step - loss: 8.8300e-04\n",
            "Epoch 73/100\n",
            "1953/1953 [==============================] - 12s 6ms/step - loss: 9.9332e-04\n",
            "Epoch 74/100\n",
            "1953/1953 [==============================] - 12s 6ms/step - loss: 0.0011\n",
            "Epoch 75/100\n",
            "1953/1953 [==============================] - 12s 6ms/step - loss: 0.0010\n",
            "Epoch 76/100\n",
            "1953/1953 [==============================] - 12s 6ms/step - loss: 9.5495e-04\n",
            "Epoch 77/100\n",
            "1953/1953 [==============================] - 12s 6ms/step - loss: 8.8153e-04\n",
            "Epoch 78/100\n",
            "1953/1953 [==============================] - 12s 6ms/step - loss: 8.7648e-04\n",
            "Epoch 79/100\n",
            "1953/1953 [==============================] - 12s 6ms/step - loss: 0.0012\n",
            "Epoch 80/100\n",
            "1953/1953 [==============================] - 12s 6ms/step - loss: 0.0012\n",
            "Epoch 81/100\n",
            "1953/1953 [==============================] - 12s 6ms/step - loss: 9.3422e-04\n",
            "Epoch 82/100\n",
            "1953/1953 [==============================] - 12s 6ms/step - loss: 8.1468e-04\n",
            "Epoch 83/100\n",
            "1953/1953 [==============================] - 13s 6ms/step - loss: 9.5416e-04\n",
            "Epoch 84/100\n",
            "1953/1953 [==============================] - 13s 6ms/step - loss: 8.5113e-04\n",
            "Epoch 85/100\n",
            "1953/1953 [==============================] - 13s 6ms/step - loss: 9.5321e-04\n",
            "Epoch 86/100\n",
            "1953/1953 [==============================] - 13s 6ms/step - loss: 8.5849e-04\n",
            "Epoch 87/100\n",
            "1953/1953 [==============================] - 12s 6ms/step - loss: 7.5232e-04\n",
            "Epoch 88/100\n",
            "1953/1953 [==============================] - 13s 6ms/step - loss: 7.9709e-04\n",
            "Epoch 89/100\n",
            "1953/1953 [==============================] - 14s 7ms/step - loss: 8.1929e-04\n",
            "Epoch 90/100\n",
            "1953/1953 [==============================] - 13s 6ms/step - loss: 0.0015\n",
            "Epoch 91/100\n",
            "1953/1953 [==============================] - 13s 7ms/step - loss: 0.0010\n",
            "Epoch 92/100\n",
            "1953/1953 [==============================] - 12s 6ms/step - loss: 8.9710e-04\n",
            "Epoch 93/100\n",
            "1953/1953 [==============================] - 12s 6ms/step - loss: 8.0169e-04\n",
            "Epoch 94/100\n",
            "1953/1953 [==============================] - 12s 6ms/step - loss: 7.2133e-04\n",
            "Epoch 95/100\n",
            "1953/1953 [==============================] - 12s 6ms/step - loss: 9.1760e-04\n",
            "Epoch 96/100\n",
            "1953/1953 [==============================] - 13s 6ms/step - loss: 0.0012\n",
            "Epoch 97/100\n",
            "1953/1953 [==============================] - 12s 6ms/step - loss: 7.9298e-04\n",
            "Epoch 98/100\n",
            "1953/1953 [==============================] - 12s 6ms/step - loss: 7.8675e-04\n",
            "Epoch 99/100\n",
            "1953/1953 [==============================] - 12s 6ms/step - loss: 0.0013\n",
            "Epoch 100/100\n",
            "1953/1953 [==============================] - 12s 6ms/step - loss: 7.7513e-04\n"
          ],
          "name": "stdout"
        },
        {
          "output_type": "execute_result",
          "data": {
            "text/plain": [
              "<keras.callbacks.History at 0x7f3dd8beada0>"
            ]
          },
          "metadata": {
            "tags": []
          },
          "execution_count": 6
        }
      ]
    },
    {
      "metadata": {
        "id": "Hg-Drf6b05yN",
        "colab_type": "code",
        "outputId": "222b655f-1333-4cb2-e033-8043b6ab9302",
        "colab": {
          "base_uri": "https://localhost:8080/",
          "height": 393
        }
      },
      "cell_type": "code",
      "source": [
        "# Part - 3 - Making the predictions and visualising the results.\n",
        "#Getting the real stock price of 2017\n",
        "#Importing Training set.\n",
        "dataset_test=test.iloc[:,2].values.reshape(-1,1)\n",
        "#Creates the dataframe with \"Open\" coloumn\n",
        "real_stock_prices = test.iloc[:,2].values\n",
        "#Getting the predicted stock prices of 2017\n",
        "dataset_total = pd.concat((train.iloc[:,2], test.iloc[:,2]), axis = 0)\n",
        "#Getting the first data row that we will use for the predict the first test data.\n",
        "inputs = dataset_total[len(dataset_total) - len(dataset_test) - 60:].values\n",
        "#We are modifying the numpy array as all the inputs in one coloumn\n",
        "inputs = inputs.reshape(-1,1)\n",
        "#Scaling the input with fitted scaler\n",
        "inputs = sc.transform(inputs)\n",
        "\n",
        "\n",
        "X_test = []\n",
        "for i in range(60, (60+251)):\n",
        "    X_test.append(inputs[i-60:i, 0])\n",
        "X_test = np.array(X_test)\n",
        "#Reshaping for giving X_test to the RNN as an input.\n",
        "X_test = np.reshape(X_test, (X_test.shape[0], X_test.shape[1], 1))\n",
        "#Predicting the scaled stock prices\n",
        "predicted_stock_price = regressor.predict(X_test)\n",
        "#Inverse scaling and transforming\n",
        "predicted_stock_price = sc.inverse_transform(predicted_stock_price) \n",
        "\n",
        "\n",
        "#Visualising the results\n",
        "#Visualising the results\n",
        "mse = mean_squared_error(real_stock_prices, predicted_stock_price)\n",
        "print(mse)\n",
        "plt.plot(real_stock_prices, color= 'b', label= 'Real Stock Price of AAPL in 2017')\n",
        "plt.plot(predicted_stock_price, color= 'g', label= 'Predicted Stock Price of AAPL in 2017')\n",
        "plt.title('AAPL Stock Price Prediction with Recurrent Neural Networks')\n",
        "plt.xlabel('Time')\n",
        "plt.ylabel('Open Stock Prices')\n",
        "plt.legend()\n",
        "plt.show()"
      ],
      "execution_count": 0,
      "outputs": [
        {
          "output_type": "stream",
          "text": [
            "5.01149600478619\n"
          ],
          "name": "stdout"
        },
        {
          "output_type": "display_data",
          "data": {
            "image/png": "[encoded data removed]",
            "text/plain": [
              "<matplotlib.figure.Figure at 0x7f3e0b4160f0>"
            ]
          },
          "metadata": {
            "tags": []
          }
        }
      ]
    }
  ]
}